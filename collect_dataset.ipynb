{
 "cells": [
  {
   "cell_type": "code",
   "execution_count": 1,
   "metadata": {},
   "outputs": [],
   "source": [
    "import urllib\n",
    "import re\n",
    "import os"
   ]
  },
  {
   "cell_type": "code",
   "execution_count": 2,
   "metadata": {},
   "outputs": [
    {
     "name": "stdout",
     "output_type": "stream",
     "text": [
      "totlal 2808\n"
     ]
    }
   ],
   "source": [
    "# https://emojipedia.org/google/\n",
    "\n",
    "all_urls = []\n",
    "\n",
    "with open('raw_dataset.txt') as ulrs:\n",
    "    for line in ulrs:\n",
    "        result = re.match(r'\\<img.+src\\=(?:\\\"|\\')(?P<img>.+?)(?:\\\"|\\')(?:.+?)\\>', line)\n",
    "        if result is not None:\n",
    "            img_url = result.group('img')\n",
    "            all_urls.append(img_url)\n",
    "        \n",
    "print(\"totlal\", len(all_urls))"
   ]
  },
  {
   "cell_type": "code",
   "execution_count": 10,
   "metadata": {},
   "outputs": [
    {
     "name": "stdout",
     "output_type": "stream",
     "text": [
      "d 2189 e 1 error right-pointing-magnifying-glass_1f50e.png https://emojipedia-us.s3.dualstack.us-west-1.amazonaws.com/thumbs/72/google/146/right-pointing-magnifying-glass_1f50e.png\n"
     ]
    }
   ],
   "source": [
    "downloaded = 0\n",
    "errors = 0\n",
    "\n",
    "for url in all_urls:\n",
    "    filename = url[url.rfind(\"/\")+1:]\n",
    "    full_file_name = \"emojies/\" + filename\n",
    "    exists = os.path.isfile(full_file_name)\n",
    "    if exists:\n",
    "        downloaded = downloaded + 1\n",
    "#         print(\"d\", downloaded, \"e\", errors, \"exists\", filename)\n",
    "    else:\n",
    "        try:\n",
    "            urllib.request.urlretrieve(url, full_file_name)\n",
    "            downloaded = downloaded + 1\n",
    "#             print(\"d\", downloaded, \"e\", errors, \"downloaded\", filename)\n",
    "        except:\n",
    "            errors = errors + 1\n",
    "            print(\"d\", downloaded, \"e\", errors, \"error\", filename, url)"
   ]
  },
  {
   "cell_type": "code",
   "execution_count": null,
   "metadata": {},
   "outputs": [],
   "source": []
  }
 ],
 "metadata": {
  "kernelspec": {
   "display_name": "Python 3",
   "language": "python",
   "name": "python3"
  },
  "language_info": {
   "codemirror_mode": {
    "name": "ipython",
    "version": 3
   },
   "file_extension": ".py",
   "mimetype": "text/x-python",
   "name": "python",
   "nbconvert_exporter": "python",
   "pygments_lexer": "ipython3",
   "version": "3.6.7"
  }
 },
 "nbformat": 4,
 "nbformat_minor": 2
}
