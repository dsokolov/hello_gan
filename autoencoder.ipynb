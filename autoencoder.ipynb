{
 "cells": [
  {
   "cell_type": "code",
   "execution_count": 2,
   "metadata": {},
   "outputs": [],
   "source": [
    "from keras.layers import InputLayer, Flatten, Dense, Reshape, Input, Dropout\n",
    "from keras.layers import Conv2D, MaxPooling2D, UpSampling2D\n",
    "from keras import Sequential\n",
    "from keras.models import Model"
   ]
  },
  {
   "cell_type": "code",
   "execution_count": 3,
   "metadata": {},
   "outputs": [],
   "source": [
    "import numpy as np\n",
    "import os\n",
    "import imageio\n",
    "import matplotlib.pyplot as plt"
   ]
  },
  {
   "cell_type": "code",
   "execution_count": 4,
   "metadata": {},
   "outputs": [
    {
     "name": "stdout",
     "output_type": "stream",
     "text": [
      "Dataset shape is (114, 72, 72, 4)\n"
     ]
    }
   ],
   "source": [
    "files = []\n",
    "for r, d, f in os.walk('./emojies_face/'):\n",
    "    for file in f:\n",
    "            files.append(os.path.join(r, file))\n",
    "\n",
    "dataset = np.zeros((len(files),72,72,4))\n",
    "for i in range(0, len(files)):\n",
    "    file = files[i]\n",
    "    image = imageio.imread(file)\n",
    "    if image.shape == (72,72,4):\n",
    "        dataset[i] = image\n",
    "print(\"Dataset shape is\", dataset.shape)"
   ]
  },
  {
   "cell_type": "code",
   "execution_count": 5,
   "metadata": {},
   "outputs": [],
   "source": [
    "dataset = dataset.astype('float32') / 255"
   ]
  },
  {
   "cell_type": "code",
   "execution_count": 6,
   "metadata": {},
   "outputs": [],
   "source": [
    "image_shape = (72,72,4)\n",
    "encoding_dim = 1"
   ]
  },
  {
   "cell_type": "code",
   "execution_count": 7,
   "metadata": {},
   "outputs": [],
   "source": [
    "def build_simple_autoencoder():\n",
    "    encoder_input = Input(shape=image_shape)\n",
    "    encoder_1 = Flatten()(encoder_input)\n",
    "    encoder_2 = Dense(units=encoding_dim*3, activation=\"relu\")(encoder_1)\n",
    "    encoder_3 = Dense(units=encoding_dim*2, activation=\"relu\")(encoder_2)\n",
    "    encoder_4 = Dense(units=encoding_dim, activation=\"linear\")(encoder_3)\n",
    "    \n",
    "    encoder = Model(encoder_input, encoder_4, name=\"encoder\")\n",
    "\n",
    "    decoder_input = Input(shape=(encoding_dim,))\n",
    "    decoder_1 = Dense(units=encoding_dim*2, activation='relu')(decoder_input)\n",
    "    decoder_2 = Dense(units=encoding_dim*3, activation='relu')(decoder_1)\n",
    "    decoder_3 = Dense(units=72*72*4, activation='sigmoid')(decoder_2)\n",
    "    decoder_4 = Reshape(target_shape=image_shape)(decoder_3)\n",
    "    \n",
    "    decoder = Model(decoder_input, decoder_4, name=\"decoder\")\n",
    "\n",
    "    autoencoder = Model(encoder_input, decoder(encoder(encoder_input)), name=\"autoencoder\")\n",
    "    autoencoder.compile(optimizer='adam', loss='binary_crossentropy')\n",
    "    \n",
    "    return encoder, decoder, autoencoder"
   ]
  },
  {
   "cell_type": "code",
   "execution_count": 107,
   "metadata": {},
   "outputs": [],
   "source": [
    "def build_dens_autoencoder():\n",
    "    \n",
    "    encoder_input = Input(shape=image_shape)\n",
    "    encoder_layer = Conv2D(8, (3, 3), activation='relu', padding='same')(encoder_input)\n",
    "    encoder_layer = MaxPooling2D((3, 3), padding='same')(encoder_layer)\n",
    "    encoder_layer = Dropout(0.1)(encoder_layer)\n",
    "    encoder_layer = Conv2D(16, (3, 3), activation='relu', padding='same')(encoder_layer)\n",
    "    encoder_layer = MaxPooling2D((3, 3), padding='same')(encoder_layer)\n",
    "    encoder_layer = Dropout(0.1)(encoder_layer)\n",
    "    encoder_layer = Conv2D(32, (4, 4), activation='relu', padding='same')(encoder_layer)\n",
    "    encoder_layer = MaxPooling2D((4, 4), padding='same')(encoder_layer)\n",
    "    encoder_layer = Dropout(0.1)(encoder_layer)\n",
    "    encoder_layer = Conv2D(64, (2, 2), activation='relu', padding='same')(encoder_layer)\n",
    "    encoder_layer = MaxPooling2D((2, 2), padding='same')(encoder_layer)\n",
    "    encoder_layer = Dropout(0.1)(encoder_layer)\n",
    "    encoder_layer = Reshape(target_shape=(64,))(encoder_layer)\n",
    "    encoder = Model(encoder_input, encoder_layer, name=\"encoder\")\n",
    "\n",
    "\n",
    "    decoder_input = Input(shape=(64,))\n",
    "    decoder_layer = Reshape(target_shape=(1,1,64))(decoder_input)\n",
    "    decoder_layer = Conv2D(64, (2, 2), activation='relu', padding='same')(decoder_layer)\n",
    "    decoder_layer = UpSampling2D((2, 2))(decoder_layer)\n",
    "    decoder_layer = Dropout(0.1)(decoder_layer)\n",
    "    decoder_layer = Conv2D(32, (4, 4), activation='relu', padding='same')(decoder_layer)\n",
    "    decoder_layer = UpSampling2D((4, 4))(decoder_layer)\n",
    "    decoder_layer = Dropout(0.1)(decoder_layer)\n",
    "    decoder_layer = Conv2D(16, (3, 3), activation='relu', padding='same')(decoder_layer)\n",
    "    decoder_layer = UpSampling2D((3, 3))(decoder_layer)\n",
    "    decoder_layer = Dropout(0.1)(decoder_layer)\n",
    "    decoder_layer = Conv2D(8, (3, 3), activation='relu', padding='same')(decoder_layer)\n",
    "    decoder_layer = UpSampling2D((3, 3))(decoder_layer)\n",
    "    decoder_layer = Dropout(0.1)(decoder_layer)\n",
    "    decoder_layer = Conv2D(4, (4, 4), activation='sigmoid', padding='same')(decoder_layer)\n",
    "    decoder = Model(decoder_input, decoder_layer, name=\"decoder\")\n",
    "\n",
    "    autoencoder = Model(encoder_input, decoder(encoder(encoder_input)), name=\"autoencoder\")\n",
    "    autoencoder.compile(optimizer='adam', loss='binary_crossentropy')\n",
    "    \n",
    "    return encoder, decoder, autoencoder"
   ]
  },
  {
   "cell_type": "code",
   "execution_count": 195,
   "metadata": {},
   "outputs": [],
   "source": [
    "def build_dens_autoencoder_2():\n",
    "    \n",
    "    encoder_input = Input(shape=image_shape)\n",
    "    encoder_layer = Conv2D(128, (2, 2), activation='relu', padding='same')(encoder_input)\n",
    "    encoder_layer = MaxPooling2D((2, 2), padding='same')(encoder_layer)\n",
    "    encoder_layer = Dropout(0.1)(encoder_layer)\n",
    "    encoder = Model(encoder_input, encoder_layer, name=\"encoder\")\n",
    "\n",
    "    decoder_input = Input(shape=(36,36,128))\n",
    "    decoder_layer = UpSampling2D((2, 2))(decoder_input)\n",
    "    decoder_layer = Conv2D(4, (2, 2), activation='relu', padding='same')(decoder_layer)\n",
    "    decoder_layer = Dropout(0.1)(decoder_layer)\n",
    "    decoder = Model(decoder_input, decoder_layer, name=\"decoder\")\n",
    "\n",
    "    autoencoder = Model(encoder_input, decoder(encoder(encoder_input)), name=\"autoencoder\")\n",
    "    autoencoder.compile(optimizer='adam', loss='binary_crossentropy')\n",
    "    \n",
    "    return encoder, decoder, autoencoder"
   ]
  },
  {
   "cell_type": "code",
   "execution_count": 196,
   "metadata": {},
   "outputs": [],
   "source": [
    "# encoder, decoder, autoencoder = build_simple_autoencoder()\n",
    "# encoder, decoder, autoencoder = build_dens_autoencoder()\n",
    "encoder, decoder, autoencoder = build_dens_autoencoder_2()"
   ]
  },
  {
   "cell_type": "code",
   "execution_count": 197,
   "metadata": {},
   "outputs": [
    {
     "name": "stdout",
     "output_type": "stream",
     "text": [
      "_________________________________________________________________\n",
      "Layer (type)                 Output Shape              Param #   \n",
      "=================================================================\n",
      "input_40 (InputLayer)        (None, 72, 72, 4)         0         \n",
      "_________________________________________________________________\n",
      "conv2d_87 (Conv2D)           (None, 72, 72, 128)       2176      \n",
      "_________________________________________________________________\n",
      "max_pooling2d_48 (MaxPooling (None, 36, 36, 128)       0         \n",
      "_________________________________________________________________\n",
      "dropout_30 (Dropout)         (None, 36, 36, 128)       0         \n",
      "=================================================================\n",
      "Total params: 2,176\n",
      "Trainable params: 2,176\n",
      "Non-trainable params: 0\n",
      "_________________________________________________________________\n"
     ]
    }
   ],
   "source": [
    "encoder.summary()"
   ]
  },
  {
   "cell_type": "code",
   "execution_count": 198,
   "metadata": {},
   "outputs": [
    {
     "name": "stdout",
     "output_type": "stream",
     "text": [
      "_________________________________________________________________\n",
      "Layer (type)                 Output Shape              Param #   \n",
      "=================================================================\n",
      "input_41 (InputLayer)        (None, 36, 36, 128)       0         \n",
      "_________________________________________________________________\n",
      "up_sampling2d_36 (UpSampling (None, 72, 72, 128)       0         \n",
      "_________________________________________________________________\n",
      "conv2d_88 (Conv2D)           (None, 72, 72, 4)         2052      \n",
      "_________________________________________________________________\n",
      "dropout_31 (Dropout)         (None, 72, 72, 4)         0         \n",
      "=================================================================\n",
      "Total params: 2,052\n",
      "Trainable params: 2,052\n",
      "Non-trainable params: 0\n",
      "_________________________________________________________________\n"
     ]
    }
   ],
   "source": [
    "decoder.summary()"
   ]
  },
  {
   "cell_type": "code",
   "execution_count": 199,
   "metadata": {},
   "outputs": [
    {
     "name": "stdout",
     "output_type": "stream",
     "text": [
      "Train on 114 samples, validate on 114 samples\n",
      "Epoch 1/100\n",
      "114/114 [==============================] - 3s 28ms/step - loss: 5.9141 - val_loss: 3.9726\n",
      "Epoch 2/100\n",
      "114/114 [==============================] - 2s 20ms/step - loss: 4.2179 - val_loss: 3.3228\n",
      "Epoch 3/100\n",
      "114/114 [==============================] - 2s 20ms/step - loss: 3.3534 - val_loss: 0.9956\n",
      "Epoch 4/100\n",
      "114/114 [==============================] - 2s 20ms/step - loss: 1.5994 - val_loss: 0.5103\n",
      "Epoch 5/100\n",
      "114/114 [==============================] - 2s 20ms/step - loss: 1.2228 - val_loss: 0.4282\n",
      "Epoch 6/100\n",
      "114/114 [==============================] - 2s 20ms/step - loss: 1.1867 - val_loss: 0.4070\n",
      "Epoch 7/100\n",
      "114/114 [==============================] - 2s 20ms/step - loss: 1.2123 - val_loss: 0.4023\n",
      "Epoch 8/100\n",
      "114/114 [==============================] - 2s 21ms/step - loss: 1.2370 - val_loss: 0.3963\n",
      "Epoch 9/100\n",
      "114/114 [==============================] - 2s 20ms/step - loss: 1.2238 - val_loss: 0.3877\n",
      "Epoch 10/100\n",
      "114/114 [==============================] - 2s 20ms/step - loss: 1.1939 - val_loss: 0.3759\n",
      "Epoch 11/100\n",
      "114/114 [==============================] - 2s 20ms/step - loss: 1.1638 - val_loss: 0.3653\n",
      "Epoch 12/100\n",
      "114/114 [==============================] - 2s 20ms/step - loss: 1.1391 - val_loss: 0.3572\n",
      "Epoch 13/100\n",
      "114/114 [==============================] - 2s 20ms/step - loss: 1.1201 - val_loss: 0.3509\n",
      "Epoch 14/100\n",
      "114/114 [==============================] - 2s 20ms/step - loss: 1.1054 - val_loss: 0.3463\n",
      "Epoch 15/100\n",
      "114/114 [==============================] - 2s 20ms/step - loss: 1.0976 - val_loss: 0.3437\n",
      "Epoch 16/100\n",
      "114/114 [==============================] - 2s 20ms/step - loss: 1.0837 - val_loss: 0.3424\n",
      "Epoch 17/100\n",
      "114/114 [==============================] - 2s 20ms/step - loss: 1.0836 - val_loss: 0.3388\n",
      "Epoch 18/100\n",
      "114/114 [==============================] - 2s 20ms/step - loss: 1.0798 - val_loss: 0.3357\n",
      "Epoch 19/100\n",
      "114/114 [==============================] - 2s 20ms/step - loss: 1.0802 - val_loss: 0.3291\n",
      "Epoch 20/100\n",
      "114/114 [==============================] - 2s 20ms/step - loss: 1.0731 - val_loss: 0.3251\n",
      "Epoch 21/100\n",
      "114/114 [==============================] - 2s 20ms/step - loss: 1.0747 - val_loss: 0.3169\n",
      "Epoch 22/100\n",
      "114/114 [==============================] - 2s 20ms/step - loss: 1.0666 - val_loss: 0.3090\n",
      "Epoch 23/100\n",
      "114/114 [==============================] - 2s 20ms/step - loss: 1.0620 - val_loss: 0.3073\n",
      "Epoch 24/100\n",
      "114/114 [==============================] - 2s 20ms/step - loss: 1.0626 - val_loss: 0.3085\n",
      "Epoch 25/100\n",
      "114/114 [==============================] - 2s 22ms/step - loss: 1.0587 - val_loss: 0.3073\n",
      "Epoch 26/100\n",
      "114/114 [==============================] - 2s 20ms/step - loss: 1.0587 - val_loss: 0.3020\n",
      "Epoch 27/100\n",
      "114/114 [==============================] - 2s 20ms/step - loss: 1.0566 - val_loss: 0.2979\n",
      "Epoch 28/100\n",
      "114/114 [==============================] - 2s 21ms/step - loss: 1.0562 - val_loss: 0.2956\n",
      "Epoch 29/100\n",
      "114/114 [==============================] - 2s 20ms/step - loss: 1.0563 - val_loss: 0.2933\n",
      "Epoch 30/100\n",
      "114/114 [==============================] - 2s 21ms/step - loss: 1.0518 - val_loss: 0.2940\n",
      "Epoch 31/100\n",
      "114/114 [==============================] - 3s 23ms/step - loss: 1.0570 - val_loss: 0.3048\n",
      "Epoch 32/100\n",
      "114/114 [==============================] - 2s 22ms/step - loss: 1.0571 - val_loss: 0.3061\n",
      "Epoch 33/100\n",
      "114/114 [==============================] - 2s 20ms/step - loss: 1.0520 - val_loss: 0.2943\n",
      "Epoch 34/100\n",
      "114/114 [==============================] - 2s 20ms/step - loss: 1.0510 - val_loss: 0.2867\n",
      "Epoch 35/100\n",
      "114/114 [==============================] - 2s 20ms/step - loss: 1.0519 - val_loss: 0.2883\n",
      "Epoch 36/100\n",
      "114/114 [==============================] - 2s 20ms/step - loss: 1.0516 - val_loss: 0.2889\n",
      "Epoch 37/100\n",
      "114/114 [==============================] - 2s 20ms/step - loss: 1.0503 - val_loss: 0.2865\n",
      "Epoch 38/100\n",
      "114/114 [==============================] - 2s 21ms/step - loss: 1.0483 - val_loss: 0.2838\n",
      "Epoch 39/100\n",
      "114/114 [==============================] - 2s 20ms/step - loss: 1.0449 - val_loss: 0.3142\n",
      "Epoch 40/100\n"
     ]
    },
    {
     "ename": "KeyboardInterrupt",
     "evalue": "",
     "output_type": "error",
     "traceback": [
      "\u001b[0;31m---------------------------------------------------------------------------\u001b[0m",
      "\u001b[0;31mKeyboardInterrupt\u001b[0m                         Traceback (most recent call last)",
      "\u001b[0;32m<ipython-input-199-f9edcdaa0346>\u001b[0m in \u001b[0;36m<module>\u001b[0;34m\u001b[0m\n\u001b[1;32m      3\u001b[0m                 \u001b[0mbatch_size\u001b[0m\u001b[0;34m=\u001b[0m\u001b[0;36m50\u001b[0m\u001b[0;34m,\u001b[0m\u001b[0;34m\u001b[0m\u001b[0;34m\u001b[0m\u001b[0m\n\u001b[1;32m      4\u001b[0m                 \u001b[0mshuffle\u001b[0m\u001b[0;34m=\u001b[0m\u001b[0;32mTrue\u001b[0m\u001b[0;34m,\u001b[0m\u001b[0;34m\u001b[0m\u001b[0;34m\u001b[0m\u001b[0m\n\u001b[0;32m----> 5\u001b[0;31m                 validation_data=(dataset, dataset))\n\u001b[0m",
      "\u001b[0;32m/media/dsokolov/463bc025-e343-4d53-92e7-601c453125bc/data/projects/hello_gan/venv/lib/python3.6/site-packages/keras/engine/training.py\u001b[0m in \u001b[0;36mfit\u001b[0;34m(self, x, y, batch_size, epochs, verbose, callbacks, validation_split, validation_data, shuffle, class_weight, sample_weight, initial_epoch, steps_per_epoch, validation_steps, **kwargs)\u001b[0m\n\u001b[1;32m   1037\u001b[0m                                         \u001b[0minitial_epoch\u001b[0m\u001b[0;34m=\u001b[0m\u001b[0minitial_epoch\u001b[0m\u001b[0;34m,\u001b[0m\u001b[0;34m\u001b[0m\u001b[0;34m\u001b[0m\u001b[0m\n\u001b[1;32m   1038\u001b[0m                                         \u001b[0msteps_per_epoch\u001b[0m\u001b[0;34m=\u001b[0m\u001b[0msteps_per_epoch\u001b[0m\u001b[0;34m,\u001b[0m\u001b[0;34m\u001b[0m\u001b[0;34m\u001b[0m\u001b[0m\n\u001b[0;32m-> 1039\u001b[0;31m                                         validation_steps=validation_steps)\n\u001b[0m\u001b[1;32m   1040\u001b[0m \u001b[0;34m\u001b[0m\u001b[0m\n\u001b[1;32m   1041\u001b[0m     def evaluate(self, x=None, y=None,\n",
      "\u001b[0;32m/media/dsokolov/463bc025-e343-4d53-92e7-601c453125bc/data/projects/hello_gan/venv/lib/python3.6/site-packages/keras/engine/training_arrays.py\u001b[0m in \u001b[0;36mfit_loop\u001b[0;34m(model, f, ins, out_labels, batch_size, epochs, verbose, callbacks, val_f, val_ins, shuffle, callback_metrics, initial_epoch, steps_per_epoch, validation_steps)\u001b[0m\n\u001b[1;32m    197\u001b[0m                     \u001b[0mins_batch\u001b[0m\u001b[0;34m[\u001b[0m\u001b[0mi\u001b[0m\u001b[0;34m]\u001b[0m \u001b[0;34m=\u001b[0m \u001b[0mins_batch\u001b[0m\u001b[0;34m[\u001b[0m\u001b[0mi\u001b[0m\u001b[0;34m]\u001b[0m\u001b[0;34m.\u001b[0m\u001b[0mtoarray\u001b[0m\u001b[0;34m(\u001b[0m\u001b[0;34m)\u001b[0m\u001b[0;34m\u001b[0m\u001b[0;34m\u001b[0m\u001b[0m\n\u001b[1;32m    198\u001b[0m \u001b[0;34m\u001b[0m\u001b[0m\n\u001b[0;32m--> 199\u001b[0;31m                 \u001b[0mouts\u001b[0m \u001b[0;34m=\u001b[0m \u001b[0mf\u001b[0m\u001b[0;34m(\u001b[0m\u001b[0mins_batch\u001b[0m\u001b[0;34m)\u001b[0m\u001b[0;34m\u001b[0m\u001b[0;34m\u001b[0m\u001b[0m\n\u001b[0m\u001b[1;32m    200\u001b[0m                 \u001b[0mouts\u001b[0m \u001b[0;34m=\u001b[0m \u001b[0mto_list\u001b[0m\u001b[0;34m(\u001b[0m\u001b[0mouts\u001b[0m\u001b[0;34m)\u001b[0m\u001b[0;34m\u001b[0m\u001b[0;34m\u001b[0m\u001b[0m\n\u001b[1;32m    201\u001b[0m                 \u001b[0;32mfor\u001b[0m \u001b[0ml\u001b[0m\u001b[0;34m,\u001b[0m \u001b[0mo\u001b[0m \u001b[0;32min\u001b[0m \u001b[0mzip\u001b[0m\u001b[0;34m(\u001b[0m\u001b[0mout_labels\u001b[0m\u001b[0;34m,\u001b[0m \u001b[0mouts\u001b[0m\u001b[0;34m)\u001b[0m\u001b[0;34m:\u001b[0m\u001b[0;34m\u001b[0m\u001b[0;34m\u001b[0m\u001b[0m\n",
      "\u001b[0;32m/media/dsokolov/463bc025-e343-4d53-92e7-601c453125bc/data/projects/hello_gan/venv/lib/python3.6/site-packages/keras/backend/tensorflow_backend.py\u001b[0m in \u001b[0;36m__call__\u001b[0;34m(self, inputs)\u001b[0m\n\u001b[1;32m   2713\u001b[0m                 \u001b[0;32mreturn\u001b[0m \u001b[0mself\u001b[0m\u001b[0;34m.\u001b[0m\u001b[0m_legacy_call\u001b[0m\u001b[0;34m(\u001b[0m\u001b[0minputs\u001b[0m\u001b[0;34m)\u001b[0m\u001b[0;34m\u001b[0m\u001b[0;34m\u001b[0m\u001b[0m\n\u001b[1;32m   2714\u001b[0m \u001b[0;34m\u001b[0m\u001b[0m\n\u001b[0;32m-> 2715\u001b[0;31m             \u001b[0;32mreturn\u001b[0m \u001b[0mself\u001b[0m\u001b[0;34m.\u001b[0m\u001b[0m_call\u001b[0m\u001b[0;34m(\u001b[0m\u001b[0minputs\u001b[0m\u001b[0;34m)\u001b[0m\u001b[0;34m\u001b[0m\u001b[0;34m\u001b[0m\u001b[0m\n\u001b[0m\u001b[1;32m   2716\u001b[0m         \u001b[0;32melse\u001b[0m\u001b[0;34m:\u001b[0m\u001b[0;34m\u001b[0m\u001b[0;34m\u001b[0m\u001b[0m\n\u001b[1;32m   2717\u001b[0m             \u001b[0;32mif\u001b[0m \u001b[0mpy_any\u001b[0m\u001b[0;34m(\u001b[0m\u001b[0mis_tensor\u001b[0m\u001b[0;34m(\u001b[0m\u001b[0mx\u001b[0m\u001b[0;34m)\u001b[0m \u001b[0;32mfor\u001b[0m \u001b[0mx\u001b[0m \u001b[0;32min\u001b[0m \u001b[0minputs\u001b[0m\u001b[0;34m)\u001b[0m\u001b[0;34m:\u001b[0m\u001b[0;34m\u001b[0m\u001b[0;34m\u001b[0m\u001b[0m\n",
      "\u001b[0;32m/media/dsokolov/463bc025-e343-4d53-92e7-601c453125bc/data/projects/hello_gan/venv/lib/python3.6/site-packages/keras/backend/tensorflow_backend.py\u001b[0m in \u001b[0;36m_call\u001b[0;34m(self, inputs)\u001b[0m\n\u001b[1;32m   2673\u001b[0m             \u001b[0mfetched\u001b[0m \u001b[0;34m=\u001b[0m \u001b[0mself\u001b[0m\u001b[0;34m.\u001b[0m\u001b[0m_callable_fn\u001b[0m\u001b[0;34m(\u001b[0m\u001b[0;34m*\u001b[0m\u001b[0marray_vals\u001b[0m\u001b[0;34m,\u001b[0m \u001b[0mrun_metadata\u001b[0m\u001b[0;34m=\u001b[0m\u001b[0mself\u001b[0m\u001b[0;34m.\u001b[0m\u001b[0mrun_metadata\u001b[0m\u001b[0;34m)\u001b[0m\u001b[0;34m\u001b[0m\u001b[0;34m\u001b[0m\u001b[0m\n\u001b[1;32m   2674\u001b[0m         \u001b[0;32melse\u001b[0m\u001b[0;34m:\u001b[0m\u001b[0;34m\u001b[0m\u001b[0;34m\u001b[0m\u001b[0m\n\u001b[0;32m-> 2675\u001b[0;31m             \u001b[0mfetched\u001b[0m \u001b[0;34m=\u001b[0m \u001b[0mself\u001b[0m\u001b[0;34m.\u001b[0m\u001b[0m_callable_fn\u001b[0m\u001b[0;34m(\u001b[0m\u001b[0;34m*\u001b[0m\u001b[0marray_vals\u001b[0m\u001b[0;34m)\u001b[0m\u001b[0;34m\u001b[0m\u001b[0;34m\u001b[0m\u001b[0m\n\u001b[0m\u001b[1;32m   2676\u001b[0m         \u001b[0;32mreturn\u001b[0m \u001b[0mfetched\u001b[0m\u001b[0;34m[\u001b[0m\u001b[0;34m:\u001b[0m\u001b[0mlen\u001b[0m\u001b[0;34m(\u001b[0m\u001b[0mself\u001b[0m\u001b[0;34m.\u001b[0m\u001b[0moutputs\u001b[0m\u001b[0;34m)\u001b[0m\u001b[0;34m]\u001b[0m\u001b[0;34m\u001b[0m\u001b[0;34m\u001b[0m\u001b[0m\n\u001b[1;32m   2677\u001b[0m \u001b[0;34m\u001b[0m\u001b[0m\n",
      "\u001b[0;32m/media/dsokolov/463bc025-e343-4d53-92e7-601c453125bc/data/projects/hello_gan/venv/lib/python3.6/site-packages/tensorflow/python/client/session.py\u001b[0m in \u001b[0;36m__call__\u001b[0;34m(self, *args, **kwargs)\u001b[0m\n\u001b[1;32m   1437\u001b[0m           ret = tf_session.TF_SessionRunCallable(\n\u001b[1;32m   1438\u001b[0m               \u001b[0mself\u001b[0m\u001b[0;34m.\u001b[0m\u001b[0m_session\u001b[0m\u001b[0;34m.\u001b[0m\u001b[0m_session\u001b[0m\u001b[0;34m,\u001b[0m \u001b[0mself\u001b[0m\u001b[0;34m.\u001b[0m\u001b[0m_handle\u001b[0m\u001b[0;34m,\u001b[0m \u001b[0margs\u001b[0m\u001b[0;34m,\u001b[0m \u001b[0mstatus\u001b[0m\u001b[0;34m,\u001b[0m\u001b[0;34m\u001b[0m\u001b[0;34m\u001b[0m\u001b[0m\n\u001b[0;32m-> 1439\u001b[0;31m               run_metadata_ptr)\n\u001b[0m\u001b[1;32m   1440\u001b[0m         \u001b[0;32mif\u001b[0m \u001b[0mrun_metadata\u001b[0m\u001b[0;34m:\u001b[0m\u001b[0;34m\u001b[0m\u001b[0;34m\u001b[0m\u001b[0m\n\u001b[1;32m   1441\u001b[0m           \u001b[0mproto_data\u001b[0m \u001b[0;34m=\u001b[0m \u001b[0mtf_session\u001b[0m\u001b[0;34m.\u001b[0m\u001b[0mTF_GetBuffer\u001b[0m\u001b[0;34m(\u001b[0m\u001b[0mrun_metadata_ptr\u001b[0m\u001b[0;34m)\u001b[0m\u001b[0;34m\u001b[0m\u001b[0;34m\u001b[0m\u001b[0m\n",
      "\u001b[0;31mKeyboardInterrupt\u001b[0m: "
     ]
    }
   ],
   "source": [
    "autoencoder.fit(dataset, dataset,\n",
    "                epochs=100,\n",
    "                batch_size=50,\n",
    "                shuffle=True,\n",
    "                validation_data=(dataset, dataset))"
   ]
  },
  {
   "cell_type": "code",
   "execution_count": 200,
   "metadata": {},
   "outputs": [
    {
     "data": {
      "image/png": "[encoded data removed]",
      "text/plain": [
       "<Figure size 432x288 with 1 Axes>"
      ]
     },
     "metadata": {
      "needs_background": "light"
     },
     "output_type": "display_data"
    },
    {
     "data": {
      "image/png": "[encoded data removed]",
      "text/plain": [
       "<Figure size 432x288 with 1 Axes>"
      ]
     },
     "metadata": {
      "needs_background": "light"
     },
     "output_type": "display_data"
    },
    {
     "name": "stderr",
     "output_type": "stream",
     "text": [
      "Clipping input data to the valid range for imshow with RGB data ([0..1] for floats or [0..255] for integers).\n"
     ]
    },
    {
     "data": {
      "image/png": "[encoded data removed]",
      "text/plain": [
       "<Figure size 432x288 with 1 Axes>"
      ]
     },
     "metadata": {
      "needs_background": "light"
     },
     "output_type": "display_data"
    },
    {
     "data": {
      "image/png": "[encoded data removed]",
      "text/plain": [
       "<Figure size 432x288 with 1 Axes>"
      ]
     },
     "metadata": {
      "needs_background": "light"
     },
     "output_type": "display_data"
    }
   ],
   "source": [
    "i = 15\n",
    "imgs = dataset[i:i+2]\n",
    "predicted_imgs = autoencoder.predict(imgs, batch_size=1)\n",
    "for ind in range(0,len(imgs)):\n",
    "    plt.imshow(predicted_imgs[ind])\n",
    "    plt.show()\n",
    "    plt.imshow(imgs[ind])\n",
    "    plt.show()"
   ]
  },
  {
   "cell_type": "code",
   "execution_count": 113,
   "metadata": {},
   "outputs": [
    {
     "name": "stdout",
     "output_type": "stream",
     "text": [
      "(64,)\n",
      "[0.6725303  0.16323882 0.16535547 0.01421279 0.41812637 0.23827481\n",
      " 0.8472099  0.35966507 0.36247233 0.23535909 0.7915775  0.4004071\n",
      " 0.22255722 0.43660155 0.         0.         0.5900263  0.34240845\n",
      " 0.5321973  0.61913157 0.90163946 0.8531403  0.         0.6183898\n",
      " 0.17754051 0.28062293 0.30461907 0.259604   0.88820106 0.27031153\n",
      " 0.18284707 0.5091822  0.34132582 0.3539363  0.3542509  0.\n",
      " 0.64107853 0.48262405 0.10630474 0.5030567  0.6487922  0.6577711\n",
      " 0.22946313 0.7853135  0.33918145 0.54438126 0.7689995  0.22283992\n",
      " 0.3305272  0.2368011  0.16905643 0.8162522  0.43705288 0.07088291\n",
      " 0.17668211 0.2649738  0.293778   0.         0.21791163 0.1699809\n",
      " 0.15645184 0.0520307  0.         0.4447547 ]\n"
     ]
    }
   ],
   "source": [
    "imgs = dataset[2:3]\n",
    "encoded_imgs = encoder.predict(imgs)\n",
    "for encoded_img in encoded_imgs:\n",
    "    print(encoded_img.shape)\n",
    "    print(encoded_img)\n",
    "#     print(encoded_img)\n",
    "#     plt.imshow(encoded_img)\n",
    "#     plt.show()"
   ]
  },
  {
   "cell_type": "code",
   "execution_count": 47,
   "metadata": {},
   "outputs": [
    {
     "ename": "IndexError",
     "evalue": "too many indices for array",
     "output_type": "error",
     "traceback": [
      "\u001b[0;31m---------------------------------------------------------------------------\u001b[0m",
      "\u001b[0;31mIndexError\u001b[0m                                Traceback (most recent call last)",
      "\u001b[0;32m<ipython-input-47-b0fb57eaebad>\u001b[0m in \u001b[0;36m<module>\u001b[0;34m\u001b[0m\n\u001b[0;32m----> 1\u001b[0;31m \u001b[0mencoded_imgs\u001b[0m\u001b[0;34m[\u001b[0m\u001b[0;36m0\u001b[0m\u001b[0;34m,\u001b[0m\u001b[0;36m0\u001b[0m\u001b[0;34m,\u001b[0m\u001b[0;36m5\u001b[0m\u001b[0;34m]\u001b[0m \u001b[0;34m=\u001b[0m \u001b[0;36m5.0\u001b[0m\u001b[0;34m\u001b[0m\u001b[0;34m\u001b[0m\u001b[0m\n\u001b[0m\u001b[1;32m      2\u001b[0m \u001b[0mdecoded_imgs\u001b[0m \u001b[0;34m=\u001b[0m \u001b[0mdecoder\u001b[0m\u001b[0;34m.\u001b[0m\u001b[0mpredict\u001b[0m\u001b[0;34m(\u001b[0m\u001b[0mencoded_imgs\u001b[0m\u001b[0;34m,\u001b[0m \u001b[0mbatch_size\u001b[0m\u001b[0;34m=\u001b[0m\u001b[0;36m1\u001b[0m\u001b[0;34m)\u001b[0m\u001b[0;34m\u001b[0m\u001b[0;34m\u001b[0m\u001b[0m\n\u001b[1;32m      3\u001b[0m \u001b[0;32mfor\u001b[0m \u001b[0mdecoded_img\u001b[0m \u001b[0;32min\u001b[0m \u001b[0mdecoded_imgs\u001b[0m\u001b[0;34m:\u001b[0m\u001b[0;34m\u001b[0m\u001b[0;34m\u001b[0m\u001b[0m\n\u001b[1;32m      4\u001b[0m     \u001b[0mprint\u001b[0m\u001b[0;34m(\u001b[0m\u001b[0mdecoded_img\u001b[0m\u001b[0;34m.\u001b[0m\u001b[0mshape\u001b[0m\u001b[0;34m)\u001b[0m\u001b[0;34m\u001b[0m\u001b[0;34m\u001b[0m\u001b[0m\n\u001b[1;32m      5\u001b[0m     \u001b[0mplt\u001b[0m\u001b[0;34m.\u001b[0m\u001b[0mimshow\u001b[0m\u001b[0;34m(\u001b[0m\u001b[0mdecoded_img\u001b[0m\u001b[0;34m)\u001b[0m\u001b[0;34m\u001b[0m\u001b[0;34m\u001b[0m\u001b[0m\n",
      "\u001b[0;31mIndexError\u001b[0m: too many indices for array"
     ]
    }
   ],
   "source": [
    "encoded_imgs[0,0,5] = 5.0\n",
    "decoded_imgs = decoder.predict(encoded_imgs, batch_size=1)\n",
    "for decoded_img in decoded_imgs:\n",
    "    print(decoded_img.shape)\n",
    "    plt.imshow(decoded_img)\n",
    "    plt.show()"
   ]
  },
  {
   "cell_type": "code",
   "execution_count": 211,
   "metadata": {},
   "outputs": [
    {
     "name": "stderr",
     "output_type": "stream",
     "text": [
      "Clipping input data to the valid range for imshow with RGB data ([0..1] for floats or [0..255] for integers).\n"
     ]
    },
    {
     "data": {
      "image/png": "[encoded data removed]",
      "text/plain": [
       "<Figure size 432x288 with 1 Axes>"
      ]
     },
     "metadata": {
      "needs_background": "light"
     },
     "output_type": "display_data"
    }
   ],
   "source": [
    "seeds = np.random.uniform(low=0.0, high=2.0, size=(1,36,36,128))\n",
    "# seeds = np.random.normal(loc=0.5, scale=1.0, size=(1,64))\n",
    "# seeds = np.random.beta(a=0.6, b=1.2, size=(1,encoding_dim))\n",
    "# seeds = np.zeros((1,18,18,1))\n",
    "generated_imgs = decoder.predict(seeds, batch_size=1)\n",
    "for generated_img in generated_imgs:\n",
    "    plt.imshow(generated_img)\n",
    "#     print(generated_img)\n",
    "#     plt.title(str(seeds))\n",
    "    plt.show()"
   ]
  },
  {
   "cell_type": "code",
   "execution_count": 175,
   "metadata": {},
   "outputs": [
    {
     "name": "stdout",
     "output_type": "stream",
     "text": [
      "_________________________________________________________________\n",
      "Layer (type)                 Output Shape              Param #   \n",
      "=================================================================\n",
      "input_27 (InputLayer)        (None, 72, 72, 4)         0         \n",
      "_________________________________________________________________\n",
      "conv2d_75 (Conv2D)           (None, 72, 72, 128)       4736      \n",
      "_________________________________________________________________\n",
      "max_pooling2d_45 (MaxPooling (None, 3, 3, 128)         0         \n",
      "_________________________________________________________________\n",
      "dropout_17 (Dropout)         (None, 3, 3, 128)         0         \n",
      "=================================================================\n",
      "Total params: 4,736\n",
      "Trainable params: 4,736\n",
      "Non-trainable params: 0\n",
      "_________________________________________________________________\n"
     ]
    }
   ],
   "source": [
    "encoder_input = Input(shape=image_shape)\n",
    "encoder_layer = Conv2D(128, (3, 3), activation='relu', padding='same')(encoder_input)\n",
    "encoder_layer = MaxPooling2D((24, 24), padding='same')(encoder_layer)\n",
    "encoder_layer = Dropout(0.1)(encoder_layer)\n",
    "encoder = Model(encoder_input, encoder_layer, name=\"encoder\")\n",
    "\n",
    "encoder.summary()"
   ]
  },
  {
   "cell_type": "code",
   "execution_count": 183,
   "metadata": {},
   "outputs": [
    {
     "name": "stdout",
     "output_type": "stream",
     "text": [
      "_________________________________________________________________\n",
      "Layer (type)                 Output Shape              Param #   \n",
      "=================================================================\n",
      "input_35 (InputLayer)        (None, 3, 3, 128)         0         \n",
      "_________________________________________________________________\n",
      "up_sampling2d_33 (UpSampling (None, 72, 72, 128)       0         \n",
      "_________________________________________________________________\n",
      "conv2d_82 (Conv2D)           (None, 72, 72, 4)         4612      \n",
      "_________________________________________________________________\n",
      "dropout_25 (Dropout)         (None, 72, 72, 4)         0         \n",
      "=================================================================\n",
      "Total params: 4,612\n",
      "Trainable params: 4,612\n",
      "Non-trainable params: 0\n",
      "_________________________________________________________________\n"
     ]
    }
   ],
   "source": [
    "decoder_input = Input(shape=(3,3,128))\n",
    "decoder_layer = UpSampling2D((24, 24))(decoder_input)\n",
    "decoder_layer = Conv2D(4, (3, 3), activation='relu', padding='same')(decoder_layer)\n",
    "decoder_layer = Dropout(0.1)(decoder_layer)\n",
    "decoder = Model(decoder_input, decoder_layer, name=\"decoder\")\n",
    "\n",
    "decoder.summary()"
   ]
  },
  {
   "cell_type": "code",
   "execution_count": null,
   "metadata": {},
   "outputs": [],
   "source": []
  }
 ],
 "metadata": {
  "kernelspec": {
   "display_name": "Python 3",
   "language": "python",
   "name": "python3"
  },
  "language_info": {
   "codemirror_mode": {
    "name": "ipython",
    "version": 3
   },
   "file_extension": ".py",
   "mimetype": "text/x-python",
   "name": "python",
   "nbconvert_exporter": "python",
   "pygments_lexer": "ipython3",
   "version": "3.6.7"
  }
 },
 "nbformat": 4,
 "nbformat_minor": 2
}
