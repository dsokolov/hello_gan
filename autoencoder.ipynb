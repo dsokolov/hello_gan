{
 "cells": [
  {
   "cell_type": "code",
   "execution_count": 1,
   "metadata": {},
   "outputs": [
    {
     "name": "stderr",
     "output_type": "stream",
     "text": [
      "Using TensorFlow backend.\n"
     ]
    }
   ],
   "source": [
    "from keras.layers import InputLayer, Flatten, Dense, Reshape, Input, Dropout\n",
    "from keras.layers import Conv2D, MaxPooling2D, UpSampling2D\n",
    "from keras import Sequential\n",
    "from keras.models import Model"
   ]
  },
  {
   "cell_type": "code",
   "execution_count": 2,
   "metadata": {},
   "outputs": [],
   "source": [
    "import numpy as np\n",
    "import os\n",
    "import imageio\n",
    "import matplotlib.pyplot as plt"
   ]
  },
  {
   "cell_type": "code",
   "execution_count": 3,
   "metadata": {},
   "outputs": [
    {
     "name": "stdout",
     "output_type": "stream",
     "text": [
      "Dataset shape is (2807, 72, 72, 4)\n"
     ]
    }
   ],
   "source": [
    "files = []\n",
    "for r, d, f in os.walk('./emojies/'):\n",
    "    for file in f:\n",
    "            files.append(os.path.join(r, file))\n",
    "\n",
    "dataset = np.zeros((len(files),72,72,4))\n",
    "for i in range(0, len(files)):\n",
    "    file = files[i]\n",
    "    image = imageio.imread(file)\n",
    "    if image.shape == (72,72,4):\n",
    "        dataset[i] = image\n",
    "print(\"Dataset shape is\", dataset.shape)"
   ]
  },
  {
   "cell_type": "code",
   "execution_count": 4,
   "metadata": {},
   "outputs": [],
   "source": [
    "dataset = dataset.astype('float32') / 255"
   ]
  },
  {
   "cell_type": "code",
   "execution_count": 124,
   "metadata": {},
   "outputs": [],
   "source": [
    "image_shape = (72,72,4)\n",
    "encoding_dim = 1"
   ]
  },
  {
   "cell_type": "code",
   "execution_count": 125,
   "metadata": {},
   "outputs": [],
   "source": [
    "def build_simple_autoencoder():\n",
    "    encoder_input = Input(shape=image_shape)\n",
    "    encoder_1 = Flatten()(encoder_input)\n",
    "    encoder_2 = Dense(units=encoding_dim*3, activation=\"relu\")(encoder_1)\n",
    "    encoder_3 = Dense(units=encoding_dim*2, activation=\"relu\")(encoder_2)\n",
    "    encoder_4 = Dense(units=encoding_dim, activation=\"linear\")(encoder_3)\n",
    "    \n",
    "    encoder = Model(encoder_input, encoder_4, name=\"encoder\")\n",
    "\n",
    "    decoder_input = Input(shape=(encoding_dim,))\n",
    "    decoder_1 = Dense(units=encoding_dim*2, activation='relu')(decoder_input)\n",
    "    decoder_2 = Dense(units=encoding_dim*3, activation='relu')(decoder_1)\n",
    "    decoder_3 = Dense(units=72*72*4, activation='sigmoid')(decoder_2)\n",
    "    decoder_4 = Reshape(target_shape=image_shape)(decoder_3)\n",
    "    \n",
    "    decoder = Model(decoder_input, decoder_4, name=\"decoder\")\n",
    "\n",
    "    autoencoder = Model(encoder_input, decoder(encoder(encoder_input)), name=\"autoencoder\")\n",
    "    autoencoder.compile(optimizer='adam', loss='binary_crossentropy')\n",
    "    \n",
    "    return encoder, decoder, autoencoder"
   ]
  },
  {
   "cell_type": "code",
   "execution_count": 126,
   "metadata": {},
   "outputs": [],
   "source": [
    "def build_dens_autoencoder():\n",
    "    \n",
    "    encoder_input = Input(shape=image_shape, name='encoder_0')\n",
    "    encoder_layer = Conv2D(4, (2, 2), activation='relu', padding='same', name='encoder_1')(encoder_input)\n",
    "    encoder_layer = MaxPooling2D((2, 2), padding='same', name='encoder_2')(encoder_layer)\n",
    "    encoder_layer = Dropout(0.25, name='encoder_3')(encoder_layer)\n",
    "    encoder_layer = Conv2D(4, (2, 2), activation='relu', padding='same', name='encoder_4')(encoder_layer)\n",
    "    encoder_layer = MaxPooling2D((2, 2), padding='same', name='encoder_5')(encoder_layer)\n",
    "    encoder_layer = Dropout(0.25, name='encoder_6')(encoder_layer)\n",
    "    encoder_layer = Conv2D(4, (2, 2), activation='relu', padding='same', name='encoder_7')(encoder_layer)\n",
    "    encoder_layer = MaxPooling2D((2, 2), padding='same', name='encoder_8')(encoder_layer)\n",
    "    encoder_layer = Dropout(0.25, name='encoder_9')(encoder_layer)\n",
    "    encoder_layer = Flatten(name='encoder_10')(encoder_layer)\n",
    "    encoder = Model(encoder_input, encoder_layer, name=\"encoder\")\n",
    "\n",
    "    decoder_input = Input(shape=(324,), name='decoder_0')\n",
    "    decoder_layer = Reshape(target_shape=(9,9,4), name='decoder_1')(decoder_input)\n",
    "    decoder_layer = Conv2D(4, (2, 2), activation='relu', padding='same', name='decoder_3')(decoder_layer)\n",
    "    decoder_layer = UpSampling2D((2, 2), name='decoder_4')(decoder_layer)\n",
    "    decoder_layer = Dropout(0.25, name='decoder_5')(decoder_layer)\n",
    "    decoder_layer = Conv2D(4, (2, 2), activation='relu', padding='same', name='decoder_6')(decoder_layer)\n",
    "    decoder_layer = UpSampling2D((2, 2), name='decoder_7')(decoder_layer)\n",
    "    decoder_layer = Dropout(0.25, name='decoder_8')(decoder_layer)\n",
    "    decoder_layer = Conv2D(4, (2, 2), activation='relu', padding='same', name='decoder_9')(decoder_layer)\n",
    "    decoder_layer = UpSampling2D((2, 2), name='decoder_10')(decoder_layer)\n",
    "    decoder_layer = Dropout(0.25, name='decoder_11')(decoder_layer)\n",
    "    decoder = Model(decoder_input, decoder_layer, name=\"decoder\")\n",
    "\n",
    "    autoencoder = Model(encoder_input, decoder(encoder(encoder_input)), name=\"autoencoder\")\n",
    "    autoencoder.compile(optimizer='adam', loss='binary_crossentropy')\n",
    "    \n",
    "    return encoder, decoder, autoencoder"
   ]
  },
  {
   "cell_type": "code",
   "execution_count": 127,
   "metadata": {},
   "outputs": [],
   "source": [
    "encoder, decoder, autoencoder = build_simple_autoencoder()\n",
    "# encoder, decoder, autoencoder = build_dens_autoencoder()"
   ]
  },
  {
   "cell_type": "code",
   "execution_count": 128,
   "metadata": {},
   "outputs": [
    {
     "name": "stdout",
     "output_type": "stream",
     "text": [
      "_________________________________________________________________\n",
      "Layer (type)                 Output Shape              Param #   \n",
      "=================================================================\n",
      "input_3 (InputLayer)         (None, 72, 72, 4)         0         \n",
      "_________________________________________________________________\n",
      "flatten_2 (Flatten)          (None, 20736)             0         \n",
      "_________________________________________________________________\n",
      "dense_7 (Dense)              (None, 3)                 62211     \n",
      "_________________________________________________________________\n",
      "dense_8 (Dense)              (None, 2)                 8         \n",
      "_________________________________________________________________\n",
      "dense_9 (Dense)              (None, 1)                 3         \n",
      "=================================================================\n",
      "Total params: 62,222\n",
      "Trainable params: 62,222\n",
      "Non-trainable params: 0\n",
      "_________________________________________________________________\n"
     ]
    }
   ],
   "source": [
    "encoder.summary()"
   ]
  },
  {
   "cell_type": "code",
   "execution_count": 129,
   "metadata": {},
   "outputs": [
    {
     "name": "stdout",
     "output_type": "stream",
     "text": [
      "_________________________________________________________________\n",
      "Layer (type)                 Output Shape              Param #   \n",
      "=================================================================\n",
      "input_4 (InputLayer)         (None, 1)                 0         \n",
      "_________________________________________________________________\n",
      "dense_10 (Dense)             (None, 2)                 4         \n",
      "_________________________________________________________________\n",
      "dense_11 (Dense)             (None, 3)                 9         \n",
      "_________________________________________________________________\n",
      "dense_12 (Dense)             (None, 20736)             82944     \n",
      "_________________________________________________________________\n",
      "reshape_2 (Reshape)          (None, 72, 72, 4)         0         \n",
      "=================================================================\n",
      "Total params: 82,957\n",
      "Trainable params: 82,957\n",
      "Non-trainable params: 0\n",
      "_________________________________________________________________\n"
     ]
    }
   ],
   "source": [
    "decoder.summary()"
   ]
  },
  {
   "cell_type": "code",
   "execution_count": 130,
   "metadata": {},
   "outputs": [
    {
     "name": "stdout",
     "output_type": "stream",
     "text": [
      "Train on 2807 samples, validate on 2807 samples\n",
      "Epoch 1/20\n",
      "2807/2807 [==============================] - 4s 1ms/step - loss: 0.6918 - val_loss: 0.6882\n",
      "Epoch 2/20\n",
      "2807/2807 [==============================] - 3s 966us/step - loss: 0.6769 - val_loss: 0.6562\n",
      "Epoch 3/20\n",
      "2807/2807 [==============================] - 3s 905us/step - loss: 0.6314 - val_loss: 0.6035\n",
      "Epoch 4/20\n",
      "2807/2807 [==============================] - 3s 902us/step - loss: 0.5920 - val_loss: 0.5806\n",
      "Epoch 5/20\n",
      "2807/2807 [==============================] - 2s 888us/step - loss: 0.5755 - val_loss: 0.5706\n",
      "Epoch 6/20\n",
      "2807/2807 [==============================] - 3s 935us/step - loss: 0.5678 - val_loss: 0.5644\n",
      "Epoch 7/20\n",
      "2807/2807 [==============================] - 3s 922us/step - loss: 0.5621 - val_loss: 0.5593\n",
      "Epoch 8/20\n",
      "2807/2807 [==============================] - 3s 1ms/step - loss: 0.5572 - val_loss: 0.5543\n",
      "Epoch 9/20\n",
      "2807/2807 [==============================] - 3s 1ms/step - loss: 0.5521 - val_loss: 0.5493\n",
      "Epoch 10/20\n",
      "2807/2807 [==============================] - 3s 1000us/step - loss: 0.5470 - val_loss: 0.5443\n",
      "Epoch 11/20\n",
      "2807/2807 [==============================] - 3s 914us/step - loss: 0.5424 - val_loss: 0.5403\n",
      "Epoch 12/20\n",
      "2807/2807 [==============================] - 3s 982us/step - loss: 0.5392 - val_loss: 0.5380\n",
      "Epoch 13/20\n",
      "2807/2807 [==============================] - 3s 907us/step - loss: 0.5373 - val_loss: 0.5365\n",
      "Epoch 14/20\n",
      "2807/2807 [==============================] - 2s 890us/step - loss: 0.5360 - val_loss: 0.5353\n",
      "Epoch 15/20\n",
      "2807/2807 [==============================] - 2s 878us/step - loss: 0.5351 - val_loss: 0.5345\n",
      "Epoch 16/20\n",
      "2807/2807 [==============================] - 2s 886us/step - loss: 0.5342 - val_loss: 0.5337\n",
      "Epoch 17/20\n",
      "2807/2807 [==============================] - 2s 875us/step - loss: 0.5335 - val_loss: 0.5330\n",
      "Epoch 18/20\n",
      "2807/2807 [==============================] - 3s 898us/step - loss: 0.5328 - val_loss: 0.5323\n",
      "Epoch 19/20\n",
      "2807/2807 [==============================] - 3s 891us/step - loss: 0.5322 - val_loss: 0.5318\n",
      "Epoch 20/20\n",
      "2807/2807 [==============================] - 3s 905us/step - loss: 0.5317 - val_loss: 0.5312\n"
     ]
    },
    {
     "data": {
      "text/plain": [
       "<keras.callbacks.History at 0x7f72a3a330f0>"
      ]
     },
     "execution_count": 130,
     "metadata": {},
     "output_type": "execute_result"
    }
   ],
   "source": [
    "autoencoder.fit(dataset, dataset,\n",
    "                epochs=20,\n",
    "                batch_size=256,\n",
    "                shuffle=True,\n",
    "                validation_data=(dataset, dataset))"
   ]
  },
  {
   "cell_type": "code",
   "execution_count": 132,
   "metadata": {},
   "outputs": [
    {
     "data": {
      "image/png": "[encoded data removed]",
      "text/plain": [
       "<Figure size 432x288 with 1 Axes>"
      ]
     },
     "metadata": {
      "needs_background": "light"
     },
     "output_type": "display_data"
    },
    {
     "data": {
      "image/png": "[encoded data removed]",
      "text/plain": [
       "<Figure size 432x288 with 1 Axes>"
      ]
     },
     "metadata": {
      "needs_background": "light"
     },
     "output_type": "display_data"
    }
   ],
   "source": [
    "i = 111\n",
    "imgs = dataset[i:i+1]\n",
    "predicted_imgs = autoencoder.predict(imgs, batch_size=1)\n",
    "for ind in range(0,len(imgs)):\n",
    "    plt.imshow(predicted_imgs[ind])\n",
    "    plt.show()\n",
    "    plt.imshow(imgs[ind])\n",
    "    plt.show()"
   ]
  },
  {
   "cell_type": "code",
   "execution_count": 133,
   "metadata": {},
   "outputs": [
    {
     "name": "stdout",
     "output_type": "stream",
     "text": [
      "(1,)\n",
      "[67.81933]\n"
     ]
    }
   ],
   "source": [
    "imgs = dataset[2:3]\n",
    "encoded_imgs = encoder.predict(imgs)\n",
    "for encoded_img in encoded_imgs:\n",
    "    print(encoded_img.shape)\n",
    "    print(encoded_img)\n",
    "#     print(encoded_img)\n",
    "#     plt.imshow(encoded_img)\n",
    "#     plt.show()"
   ]
  },
  {
   "cell_type": "code",
   "execution_count": 96,
   "metadata": {},
   "outputs": [
    {
     "name": "stdout",
     "output_type": "stream",
     "text": [
      "(72, 72, 4)\n"
     ]
    },
    {
     "data": {
      "image/png": "[encoded data removed]",
      "text/plain": [
       "<Figure size 432x288 with 1 Axes>"
      ]
     },
     "metadata": {
      "needs_background": "light"
     },
     "output_type": "display_data"
    }
   ],
   "source": [
    "decoded_imgs = decoder.predict(encoded_imgs, batch_size=1)\n",
    "for decoded_img in decoded_imgs:\n",
    "    print(decoded_img.shape)\n",
    "    plt.imshow(decoded_img)\n",
    "    plt.show()"
   ]
  },
  {
   "cell_type": "code",
   "execution_count": 164,
   "metadata": {},
   "outputs": [
    {
     "data": {
      "image/png": "[encoded data removed]",
      "text/plain": [
       "<Figure size 432x288 with 1 Axes>"
      ]
     },
     "metadata": {
      "needs_background": "light"
     },
     "output_type": "display_data"
    }
   ],
   "source": [
    "seeds = np.random.uniform(low=0.0, high=100.0, size=(1,))\n",
    "# seeds = np.random.normal(loc=1.0, scale=10.0, size=(1,18,18,1))\n",
    "# seeds = np.random.beta(a=0.6, b=1.2, size=(1,encoding_dim))\n",
    "generated_imgs = decoder.predict(seeds, batch_size=1)\n",
    "for generated_img in generated_imgs:\n",
    "    plt.imshow(generated_img)\n",
    "#     print(generated_img)\n",
    "    plt.title(str(seeds))\n",
    "    plt.show()"
   ]
  },
  {
   "cell_type": "code",
   "execution_count": 108,
   "metadata": {},
   "outputs": [
    {
     "name": "stdout",
     "output_type": "stream",
     "text": [
      "_________________________________________________________________\n",
      "Layer (type)                 Output Shape              Param #   \n",
      "=================================================================\n",
      "encoder_0 (InputLayer)       (None, 72, 72, 4)         0         \n",
      "_________________________________________________________________\n",
      "encoder_1 (Conv2D)           (None, 72, 72, 4)         68        \n",
      "_________________________________________________________________\n",
      "encoder_2 (MaxPooling2D)     (None, 36, 36, 4)         0         \n",
      "_________________________________________________________________\n",
      "encoder_3 (Dropout)          (None, 36, 36, 4)         0         \n",
      "_________________________________________________________________\n",
      "encoder_4 (Conv2D)           (None, 36, 36, 4)         68        \n",
      "_________________________________________________________________\n",
      "encoder_5 (MaxPooling2D)     (None, 18, 18, 4)         0         \n",
      "_________________________________________________________________\n",
      "encoder_6 (Dropout)          (None, 18, 18, 4)         0         \n",
      "_________________________________________________________________\n",
      "encoder_7 (Conv2D)           (None, 18, 18, 4)         68        \n",
      "_________________________________________________________________\n",
      "encoder_8 (MaxPooling2D)     (None, 9, 9, 4)           0         \n",
      "_________________________________________________________________\n",
      "encoder_9 (Dropout)          (None, 9, 9, 4)           0         \n",
      "_________________________________________________________________\n",
      "encoder_10 (Flatten)         (None, 324)               0         \n",
      "=================================================================\n",
      "Total params: 204\n",
      "Trainable params: 204\n",
      "Non-trainable params: 0\n",
      "_________________________________________________________________\n"
     ]
    }
   ],
   "source": [
    "encoder_input = Input(shape=image_shape, name='encoder_0')\n",
    "\n",
    "encoder_layer = Conv2D(4, (2, 2), activation='relu', padding='same', name='encoder_1')(encoder_input)\n",
    "encoder_layer = MaxPooling2D((2, 2), padding='same', name='encoder_2')(encoder_layer)\n",
    "encoder_layer = Dropout(0.25, name='encoder_3')(encoder_layer)\n",
    "\n",
    "encoder_layer = Conv2D(4, (2, 2), activation='relu', padding='same', name='encoder_4')(encoder_layer)\n",
    "encoder_layer = MaxPooling2D((2, 2), padding='same', name='encoder_5')(encoder_layer)\n",
    "encoder_layer = Dropout(0.25, name='encoder_6')(encoder_layer)\n",
    "\n",
    "encoder_layer = Conv2D(4, (2, 2), activation='relu', padding='same', name='encoder_7')(encoder_layer)\n",
    "encoder_layer = MaxPooling2D((2, 2), padding='same', name='encoder_8')(encoder_layer)\n",
    "encoder_layer = Dropout(0.25, name='encoder_9')(encoder_layer)\n",
    "\n",
    "encoder_layer = Flatten(name='encoder_10')(encoder_layer)\n",
    "\n",
    "encoder = Model(encoder_input, encoder_layer, name=\"encoder\")\n",
    "\n",
    "encoder.summary()"
   ]
  },
  {
   "cell_type": "code",
   "execution_count": 88,
   "metadata": {},
   "outputs": [
    {
     "name": "stdout",
     "output_type": "stream",
     "text": [
      "_________________________________________________________________\n",
      "Layer (type)                 Output Shape              Param #   \n",
      "=================================================================\n",
      "decoder_0 (InputLayer)       (None, 36)                0         \n",
      "_________________________________________________________________\n",
      "decoder_1 (Reshape)          (None, 3, 3, 4)           0         \n",
      "_________________________________________________________________\n",
      "decoder_3 (Conv2D)           (None, 3, 3, 4)           68        \n",
      "_________________________________________________________________\n",
      "decoder_4 (UpSampling2D)     (None, 6, 6, 4)           0         \n",
      "_________________________________________________________________\n",
      "decoder_5 (Dropout)          (None, 6, 6, 4)           0         \n",
      "_________________________________________________________________\n",
      "decoder_6 (Conv2D)           (None, 6, 6, 4)           148       \n",
      "_________________________________________________________________\n",
      "decoder_7 (UpSampling2D)     (None, 18, 18, 4)         0         \n",
      "_________________________________________________________________\n",
      "decoder_8 (Dropout)          (None, 18, 18, 4)         0         \n",
      "_________________________________________________________________\n",
      "decoder_9 (Conv2D)           (None, 18, 18, 4)         260       \n",
      "_________________________________________________________________\n",
      "decoder_10 (UpSampling2D)    (None, 72, 72, 4)         0         \n",
      "_________________________________________________________________\n",
      "decoder_11 (Dropout)         (None, 72, 72, 4)         0         \n",
      "=================================================================\n",
      "Total params: 476\n",
      "Trainable params: 476\n",
      "Non-trainable params: 0\n",
      "_________________________________________________________________\n"
     ]
    }
   ],
   "source": [
    "decoder_input = Input(shape=(36,), name='decoder_0')\n",
    "\n",
    "decoder_layer = Reshape(target_shape=(3,3,4), name='decoder_1')(decoder_input)\n",
    "\n",
    "decoder_layer = Conv2D(4, (2, 2), activation='relu', padding='same', name='decoder_3')(decoder_layer)\n",
    "decoder_layer = UpSampling2D((2, 2), name='decoder_4')(decoder_layer)\n",
    "decoder_layer = Dropout(0.25, name='decoder_5')(decoder_layer)\n",
    "\n",
    "decoder_layer = Conv2D(4, (3, 3), activation='relu', padding='same', name='decoder_6')(decoder_layer)\n",
    "decoder_layer = UpSampling2D((3, 3), name='decoder_7')(decoder_layer)\n",
    "decoder_layer = Dropout(0.25, name='decoder_8')(decoder_layer)\n",
    "\n",
    "decoder_layer = Conv2D(4, (4, 4), activation='relu', padding='same', name='decoder_9')(decoder_layer)\n",
    "decoder_layer = UpSampling2D((4, 4), name='decoder_10')(decoder_layer)\n",
    "decoder_layer = Dropout(0.25, name='decoder_11')(decoder_layer)\n",
    "\n",
    "decoder = Model(decoder_input, decoder_layer, name=\"decoder\")\n",
    "\n",
    "decoder.summary()"
   ]
  },
  {
   "cell_type": "code",
   "execution_count": null,
   "metadata": {},
   "outputs": [],
   "source": []
  }
 ],
 "metadata": {
  "kernelspec": {
   "display_name": "Python 3",
   "language": "python",
   "name": "python3"
  },
  "language_info": {
   "codemirror_mode": {
    "name": "ipython",
    "version": 3
   },
   "file_extension": ".py",
   "mimetype": "text/x-python",
   "name": "python",
   "nbconvert_exporter": "python",
   "pygments_lexer": "ipython3",
   "version": "3.6.7"
  }
 },
 "nbformat": 4,
 "nbformat_minor": 2
}
